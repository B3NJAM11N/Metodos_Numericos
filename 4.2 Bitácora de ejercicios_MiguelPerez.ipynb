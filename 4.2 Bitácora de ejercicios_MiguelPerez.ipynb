{
 "cells": [
  {
   "cell_type": "markdown",
   "metadata": {},
   "source": [
    "# Alumno: Miguel Benjamin Perez Suasnavar"
   ]
  },
  {
   "cell_type": "markdown",
   "metadata": {},
   "source": [
    "# Ejercicios resueltos por el metodo del Trapecio y Simpson en su forma general. \n"
   ]
  },
  {
   "cell_type": "markdown",
   "metadata": {},
   "source": [
    "### Ejercicios tomados del libro de la pagina 203, apartado llamado \"Conjunto de ejercicios 4.4\" "
   ]
  },
  {
   "cell_type": "markdown",
   "metadata": {},
   "source": [
    "### Ejercicio b."
   ]
  },
  {
   "cell_type": "code",
   "execution_count": 12,
   "metadata": {
    "scrolled": true
   },
   "outputs": [
    {
     "name": "stdout",
     "output_type": "stream",
     "text": [
      "Resultados : Simpson : 22.477125358234236 : Trapecio : 31.365285650063754\n"
     ]
    }
   ],
   "source": [
    "import math\n",
    "def ecuacion(x):\n",
    "    y=pow(x,3)*math.exp(x)\n",
    "    return (y)\n",
    "def arregloEvaluacion(n,a,h):\n",
    "    aevaluaciones = [ecuacion(a+i*h) for i in range(n+1)]\n",
    "    return aevaluaciones\n",
    "def trapecio(afxi,n,h):\n",
    "#print (afxi)\n",
    "    sumap=sum([afxi[i] for i in range(1,n)])  \n",
    "    #print (sumap)\n",
    "    resultado=(h/2)*(afxi[0]+2*sumap+afxi[n])\n",
    "    #print(\"El resultado es: \",resultado)\n",
    "    return resultado\n",
    "def simpson(afxi,n,h):\n",
    "  sumap = sum( [afxi[i] for i in range(1,n) if i%2==0])\n",
    "  sumaip = sum( [afxi[i] for i in range(1,n) if i%2!=0])\n",
    "  resultado =(h/3) * (afxi[0] + 2*sumap + 4 * sumaip +afxi[n])\n",
    "  #print(\"El resultado es:\",resultado)\n",
    "  return resultado \n",
    "def principal():\n",
    "  n=4\n",
    "  a=-2\n",
    "  b=2\n",
    "  h=(b-a)/n\n",
    "    \n",
    "  afxi = arregloEvaluacion(n,a,h)\n",
    "  rsimpson = simpson(afxi,n,h)\n",
    "  rtrapecio = trapecio(afxi,n,h)\n",
    "  print(\"Resultados\",\"Simpson\",rsimpson,\"Trapecio\",rtrapecio, sep=\" : \",end=\"\\n\")\n",
    "principal()"
   ]
  },
  {
   "cell_type": "markdown",
   "metadata": {},
   "source": [
    "### Ejercicio f. "
   ]
  },
  {
   "cell_type": "code",
   "execution_count": 15,
   "metadata": {},
   "outputs": [
    {
     "name": "stdout",
     "output_type": "stream",
     "text": [
      "Resultados : Simpson : 0.4777546462847902 : Trapecio : 0.47697686651471843\n"
     ]
    }
   ],
   "source": [
    "import math\n",
    "def ecuacion(x):\n",
    "    y=x/(pow(x,2)+4)\n",
    "    return (y)\n",
    "\n",
    "def arregloEvaluacion(n,a,h):\n",
    "    aevaluaciones = [ecuacion(a+i*h) for i in range(n+1)]\n",
    "    return aevaluaciones\n",
    "def trapecio(afxi,n,h):\n",
    "#print (afxi)\n",
    "    sumap=sum([afxi[i] for i in range(1,n)])  \n",
    "    #print (sumap)\n",
    "    resultado=(h/2)*(afxi[0]+2*sumap+afxi[n])\n",
    "    #print(\"El resultado es: \",resultado)\n",
    "    return resultado\n",
    "def simpson(afxi,n,h):\n",
    "  sumap = sum( [afxi[i] for i in range(1,n) if i%2==0])\n",
    "  sumaip = sum( [afxi[i] for i in range(1,n) if i%2!=0])\n",
    "  resultado =(h/3) * (afxi[0] + 2*sumap + 4 * sumaip +afxi[n])\n",
    "  #print(\"El resultado es:\",resultado)\n",
    "  return resultado \n",
    "def principal():\n",
    "  n=8\n",
    "  a=1\n",
    "  b=3\n",
    "  h=(b-a)/n\n",
    "    \n",
    "  afxi = arregloEvaluacion(n,a,h)\n",
    "  rsimpson = simpson(afxi,n,h)\n",
    "  rtrapecio = trapecio(afxi,n,h)\n",
    "  print(\"Resultados\",\"Simpson\",rsimpson,\"Trapecio\",rtrapecio, sep=\" : \",end=\"\\n\")\n",
    "principal()"
   ]
  },
  {
   "cell_type": "markdown",
   "metadata": {},
   "source": [
    "## Ejercicios tomados del PDF, colocado en la asignacion correspondiente"
   ]
  },
  {
   "cell_type": "markdown",
   "metadata": {},
   "source": [
    "### Ejercicio a."
   ]
  },
  {
   "cell_type": "code",
   "execution_count": 19,
   "metadata": {},
   "outputs": [
    {
     "name": "stdout",
     "output_type": "stream",
     "text": [
      "Resultados : Simpson : 8.0 : Trapecio : 8.010000000000002\n"
     ]
    }
   ],
   "source": [
    "import math\n",
    "def ecuacion(x):\n",
    "    y=3*pow(x,2)\n",
    "    return (y)\n",
    "\n",
    "def arregloEvaluacion(n,a,h):\n",
    "    aevaluaciones = [ecuacion(a+i*h) for i in range(n+1)]\n",
    "    return aevaluaciones\n",
    "def trapecio(afxi,n,h):\n",
    "#print (afxi)\n",
    "    sumap=sum([afxi[i] for i in range(1,n)])  \n",
    "    #print (sumap)\n",
    "    resultado=(h/2)*(afxi[0]+2*sumap+afxi[n])\n",
    "    #print(\"El resultado es: \",resultado)\n",
    "    return resultado\n",
    "def simpson(afxi,n,h):\n",
    "  sumap = sum( [afxi[i] for i in range(1,n) if i%2==0])\n",
    "  sumaip = sum( [afxi[i] for i in range(1,n) if i%2!=0])\n",
    "  resultado =(h/3) * (afxi[0] + 2*sumap + 4 * sumaip +afxi[n])\n",
    "  #print(\"El resultado es:\",resultado)\n",
    "  return resultado \n",
    "def principal():\n",
    "  n=20\n",
    "  a=0\n",
    "  b=2\n",
    "  h=(b-a)/n\n",
    "    \n",
    "  afxi = arregloEvaluacion(n,a,h)\n",
    "  rsimpson = simpson(afxi,n,h)\n",
    "  rtrapecio = trapecio(afxi,n,h)\n",
    "  print(\"Resultados\",\"Simpson\",rsimpson,\"Trapecio\",rtrapecio, sep=\" : \",end=\"\\n\")\n",
    "principal()    "
   ]
  },
  {
   "cell_type": "markdown",
   "metadata": {},
   "source": [
    " ### Ejercicio b. "
   ]
  },
  {
   "cell_type": "code",
   "execution_count": 20,
   "metadata": {},
   "outputs": [
    {
     "name": "stdout",
     "output_type": "stream",
     "text": [
      "Resultados : Simpson : 1.7182827819248236 : Trapecio : 1.7197134913893146\n"
     ]
    }
   ],
   "source": [
    "import math\n",
    "def ecuacion(x):\n",
    "    y=math.exp(x)\n",
    "    return (y)\n",
    "\n",
    "def arregloEvaluacion(n,a,h):\n",
    "    aevaluaciones = [ecuacion(a+i*h) for i in range(n+1)]\n",
    "    return aevaluaciones\n",
    "def trapecio(afxi,n,h):\n",
    "#print (afxi)\n",
    "    sumap=sum([afxi[i] for i in range(1,n)])  \n",
    "    #print (sumap)\n",
    "    resultado=(h/2)*(afxi[0]+2*sumap+afxi[n])\n",
    "    #print(\"El resultado es: \",resultado)\n",
    "    return resultado\n",
    "def simpson(afxi,n,h):\n",
    "  sumap = sum( [afxi[i] for i in range(1,n) if i%2==0])\n",
    "  sumaip = sum( [afxi[i] for i in range(1,n) if i%2!=0])\n",
    "  resultado =(h/3) * (afxi[0] + 2*sumap + 4 * sumaip +afxi[n])\n",
    "  #print(\"El resultado es:\",resultado)\n",
    "  return resultado \n",
    "def principal():\n",
    "  n=10\n",
    "  a=0\n",
    "  b=1\n",
    "  h=(b-a)/n\n",
    "    \n",
    "  afxi = arregloEvaluacion(n,a,h)\n",
    "  rsimpson = simpson(afxi,n,h)\n",
    "  rtrapecio = trapecio(afxi,n,h)\n",
    "  print(\"Resultados\",\"Simpson\",rsimpson,\"Trapecio\",rtrapecio, sep=\" : \",end=\"\\n\")\n",
    "principal()    "
   ]
  },
  {
   "cell_type": "markdown",
   "metadata": {},
   "source": [
    "### Ejercicio c."
   ]
  },
  {
   "cell_type": "code",
   "execution_count": 21,
   "metadata": {},
   "outputs": [
    {
     "name": "stdout",
     "output_type": "stream",
     "text": [
      "Resultados : Simpson : 3.3334666666666672 : Trapecio : 3.3733000000000004\n"
     ]
    }
   ],
   "source": [
    "import math\n",
    "def ecuacion(x):\n",
    "    y=(x+2*pow(x,2)-pow(x,3)+5*pow(x,4))\n",
    "    return (y)\n",
    "a=-1\n",
    "b=1\n",
    "n=20\n",
    "h=(b-a)/n\n",
    "def arregloEvaluacion(n,a,h):\n",
    "    aevaluaciones = [ecuacion(a+i*h) for i in range(n+1)]\n",
    "    return aevaluaciones\n",
    "def trapecio(afxi,n,h):\n",
    "#print (afxi)\n",
    "    sumap=sum([afxi[i] for i in range(1,n)])  \n",
    "    #print (sumap)\n",
    "    resultado=(h/2)*(afxi[0]+2*sumap+afxi[n])\n",
    "    #print(\"El resultado es: \",resultado)\n",
    "    return resultado\n",
    "def simpson(afxi,n,h):\n",
    "  sumap = sum( [afxi[i] for i in range(1,n) if i%2==0])\n",
    "  sumaip = sum( [afxi[i] for i in range(1,n) if i%2!=0])\n",
    "  resultado =(h/3) * (afxi[0] + 2*sumap + 4 * sumaip +afxi[n])\n",
    "  #print(\"El resultado es:\",resultado)\n",
    "  return resultado \n",
    "def principal():\n",
    "  n=20\n",
    "  a=-1\n",
    "  b=1\n",
    "  h=(b-a)/n\n",
    "    \n",
    "  afxi = arregloEvaluacion(n,a,h)\n",
    "  rsimpson = simpson(afxi,n,h)\n",
    "  rtrapecio = trapecio(afxi,n,h)\n",
    "  print(\"Resultados\",\"Simpson\",rsimpson,\"Trapecio\",rtrapecio, sep=\" : \",end=\"\\n\")\n",
    "principal()    "
   ]
  },
  {
   "cell_type": "code",
   "execution_count": null,
   "metadata": {},
   "outputs": [],
   "source": []
  }
 ],
 "metadata": {
  "kernelspec": {
   "display_name": "Python 3",
   "language": "python",
   "name": "python3"
  },
  "language_info": {
   "codemirror_mode": {
    "name": "ipython",
    "version": 3
   },
   "file_extension": ".py",
   "mimetype": "text/x-python",
   "name": "python",
   "nbconvert_exporter": "python",
   "pygments_lexer": "ipython3",
   "version": "3.8.5"
  }
 },
 "nbformat": 4,
 "nbformat_minor": 4
}
